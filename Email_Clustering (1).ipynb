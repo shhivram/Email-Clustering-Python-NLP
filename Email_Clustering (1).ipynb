{
  "nbformat": 4,
  "nbformat_minor": 0,
  "metadata": {
    "colab": {
      "name": "Email Clustering.ipynb",
      "provenance": [],
      "collapsed_sections": []
    },
    "kernelspec": {
      "display_name": "Python 3",
      "name": "python3"
    }
  },
  "cells": [
    {
      "cell_type": "markdown",
      "metadata": {
        "id": "ZPmoV07rpAim"
      },
      "source": [
        "# Primary Imports"
      ]
    },
    {
      "cell_type": "code",
      "metadata": {
        "id": "BSNoMHn2XXyx",
        "colab": {
          "base_uri": "https://localhost:8080/"
        },
        "outputId": "a7d80cc5-0bc2-4d60-86a9-a0f174710cd8"
      },
      "source": [
        "import pandas as pd # Data Prperocessing and Data Wrangling\r\n",
        "import numpy as np # Data Wrangling and Data transfomations\r\n",
        "import matplotlib.pyplot as plt # Visualization\r\n",
        "import seaborn as sns # Visualization\r\n",
        "import re #Regular Expression\r\n",
        "import nltk # Natural Language Tool Kit\r\n",
        "from nltk.corpus import stopwords # Stopwords\r\n",
        "nltk.download('stopwords') # Stopwords\r\n",
        "from nltk.stem import WordNetLemmatizer # Lemitaization\r\n",
        "nltk.download('wordnet')\r\n",
        "from sklearn.decomposition import PCA # Principle Component Analysis for Dimensionality Reduction"
      ],
      "execution_count": 1,
      "outputs": [
        {
          "output_type": "stream",
          "text": [
            "[nltk_data] Downloading package stopwords to /root/nltk_data...\n",
            "[nltk_data]   Package stopwords is already up-to-date!\n",
            "[nltk_data] Downloading package wordnet to /root/nltk_data...\n",
            "[nltk_data]   Package wordnet is already up-to-date!\n"
          ],
          "name": "stdout"
        }
      ]
    },
    {
      "cell_type": "markdown",
      "metadata": {
        "id": "56ivQ9ITaj6x"
      },
      "source": [
        "Data Import"
      ]
    },
    {
      "cell_type": "code",
      "metadata": {
        "id": "wTprIReqXbDm"
      },
      "source": [
        "df = pd.read_csv('https://raw.githubusercontent.com/anthdm/ml-email-clustering/master/split_emails.csv') "
      ],
      "execution_count": 2,
      "outputs": []
    },
    {
      "cell_type": "markdown",
      "metadata": {
        "id": "o6KFEJkEane6"
      },
      "source": [
        "Eye Balling the dataset"
      ]
    },
    {
      "cell_type": "code",
      "metadata": {
        "colab": {
          "base_uri": "https://localhost:8080/",
          "height": 202
        },
        "id": "s-75Mpn-wL0A",
        "outputId": "3dcd83bf-a9fe-4426-c24a-e14c3f266ea6"
      },
      "source": [
        "df.head()"
      ],
      "execution_count": 3,
      "outputs": [
        {
          "output_type": "execute_result",
          "data": {
            "text/html": [
              "<div>\n",
              "<style scoped>\n",
              "    .dataframe tbody tr th:only-of-type {\n",
              "        vertical-align: middle;\n",
              "    }\n",
              "\n",
              "    .dataframe tbody tr th {\n",
              "        vertical-align: top;\n",
              "    }\n",
              "\n",
              "    .dataframe thead th {\n",
              "        text-align: right;\n",
              "    }\n",
              "</style>\n",
              "<table border=\"1\" class=\"dataframe\">\n",
              "  <thead>\n",
              "    <tr style=\"text-align: right;\">\n",
              "      <th></th>\n",
              "      <th>Unnamed: 0</th>\n",
              "      <th>file</th>\n",
              "      <th>message</th>\n",
              "    </tr>\n",
              "  </thead>\n",
              "  <tbody>\n",
              "    <tr>\n",
              "      <th>0</th>\n",
              "      <td>0</td>\n",
              "      <td>allen-p/_sent_mail/1.</td>\n",
              "      <td>Message-ID: &lt;18782981.1075855378110.JavaMail.e...</td>\n",
              "    </tr>\n",
              "    <tr>\n",
              "      <th>1</th>\n",
              "      <td>1</td>\n",
              "      <td>allen-p/_sent_mail/10.</td>\n",
              "      <td>Message-ID: &lt;15464986.1075855378456.JavaMail.e...</td>\n",
              "    </tr>\n",
              "    <tr>\n",
              "      <th>2</th>\n",
              "      <td>2</td>\n",
              "      <td>allen-p/_sent_mail/100.</td>\n",
              "      <td>Message-ID: &lt;24216240.1075855687451.JavaMail.e...</td>\n",
              "    </tr>\n",
              "    <tr>\n",
              "      <th>3</th>\n",
              "      <td>3</td>\n",
              "      <td>allen-p/_sent_mail/1000.</td>\n",
              "      <td>Message-ID: &lt;13505866.1075863688222.JavaMail.e...</td>\n",
              "    </tr>\n",
              "    <tr>\n",
              "      <th>4</th>\n",
              "      <td>4</td>\n",
              "      <td>allen-p/_sent_mail/1001.</td>\n",
              "      <td>Message-ID: &lt;30922949.1075863688243.JavaMail.e...</td>\n",
              "    </tr>\n",
              "  </tbody>\n",
              "</table>\n",
              "</div>"
            ],
            "text/plain": [
              "   Unnamed: 0  ...                                            message\n",
              "0           0  ...  Message-ID: <18782981.1075855378110.JavaMail.e...\n",
              "1           1  ...  Message-ID: <15464986.1075855378456.JavaMail.e...\n",
              "2           2  ...  Message-ID: <24216240.1075855687451.JavaMail.e...\n",
              "3           3  ...  Message-ID: <13505866.1075863688222.JavaMail.e...\n",
              "4           4  ...  Message-ID: <30922949.1075863688243.JavaMail.e...\n",
              "\n",
              "[5 rows x 3 columns]"
            ]
          },
          "metadata": {
            "tags": []
          },
          "execution_count": 3
        }
      ]
    },
    {
      "cell_type": "code",
      "metadata": {
        "colab": {
          "base_uri": "https://localhost:8080/"
        },
        "id": "6hE5SLw5wQxn",
        "outputId": "e064d3e1-c88f-4ce6-f48e-a5c6d5e2b5dd"
      },
      "source": [
        "df.shape"
      ],
      "execution_count": 4,
      "outputs": [
        {
          "output_type": "execute_result",
          "data": {
            "text/plain": [
              "(10000, 3)"
            ]
          },
          "metadata": {
            "tags": []
          },
          "execution_count": 4
        }
      ]
    },
    {
      "cell_type": "code",
      "metadata": {
        "colab": {
          "base_uri": "https://localhost:8080/"
        },
        "id": "XAAmhzfiwTF4",
        "outputId": "1964594d-e05a-4007-a217-29550fe85f1e"
      },
      "source": [
        "df.info()"
      ],
      "execution_count": 5,
      "outputs": [
        {
          "output_type": "stream",
          "text": [
            "<class 'pandas.core.frame.DataFrame'>\n",
            "RangeIndex: 10000 entries, 0 to 9999\n",
            "Data columns (total 3 columns):\n",
            " #   Column      Non-Null Count  Dtype \n",
            "---  ------      --------------  ----- \n",
            " 0   Unnamed: 0  10000 non-null  int64 \n",
            " 1   file        10000 non-null  object\n",
            " 2   message     10000 non-null  object\n",
            "dtypes: int64(1), object(2)\n",
            "memory usage: 234.5+ KB\n"
          ],
          "name": "stdout"
        }
      ]
    },
    {
      "cell_type": "code",
      "metadata": {
        "colab": {
          "base_uri": "https://localhost:8080/"
        },
        "id": "6GTt8CjkwECH",
        "outputId": "99a9e1bb-d905-4c9b-cc3b-c1d3868d93d2"
      },
      "source": [
        "print(df['message'][0])"
      ],
      "execution_count": 6,
      "outputs": [
        {
          "output_type": "stream",
          "text": [
            "Message-ID: <18782981.1075855378110.JavaMail.evans@thyme>\n",
            "Date: Mon, 14 May 2001 16:39:00 -0700 (PDT)\n",
            "From: phillip.allen@enron.com\n",
            "To: tim.belden@enron.com\n",
            "Subject: \n",
            "Mime-Version: 1.0\n",
            "Content-Type: text/plain; charset=us-ascii\n",
            "Content-Transfer-Encoding: 7bit\n",
            "X-From: Phillip K Allen\n",
            "X-To: Tim Belden <Tim Belden/Enron@EnronXGate>\n",
            "X-cc: \n",
            "X-bcc: \n",
            "X-Folder: \\Phillip_Allen_Jan2002_1\\Allen, Phillip K.\\'Sent Mail\n",
            "X-Origin: Allen-P\n",
            "X-FileName: pallen (Non-Privileged).pst\n",
            "\n",
            "Here is our forecast\n",
            "\n",
            " \n"
          ],
          "name": "stdout"
        }
      ]
    },
    {
      "cell_type": "code",
      "metadata": {
        "colab": {
          "base_uri": "https://localhost:8080/",
          "height": 87
        },
        "id": "iJt9qdxawG-4",
        "outputId": "6bd10763-468a-44a0-aa23-1aa5015f826b"
      },
      "source": [
        "df['message'][0]"
      ],
      "execution_count": 7,
      "outputs": [
        {
          "output_type": "execute_result",
          "data": {
            "application/vnd.google.colaboratory.intrinsic+json": {
              "type": "string"
            },
            "text/plain": [
              "\"Message-ID: <18782981.1075855378110.JavaMail.evans@thyme>\\nDate: Mon, 14 May 2001 16:39:00 -0700 (PDT)\\nFrom: phillip.allen@enron.com\\nTo: tim.belden@enron.com\\nSubject: \\nMime-Version: 1.0\\nContent-Type: text/plain; charset=us-ascii\\nContent-Transfer-Encoding: 7bit\\nX-From: Phillip K Allen\\nX-To: Tim Belden <Tim Belden/Enron@EnronXGate>\\nX-cc: \\nX-bcc: \\nX-Folder: \\\\Phillip_Allen_Jan2002_1\\\\Allen, Phillip K.\\\\'Sent Mail\\nX-Origin: Allen-P\\nX-FileName: pallen (Non-Privileged).pst\\n\\nHere is our forecast\\n\\n \""
            ]
          },
          "metadata": {
            "tags": []
          },
          "execution_count": 7
        }
      ]
    },
    {
      "cell_type": "markdown",
      "metadata": {
        "id": "8iaaEJ4wa-VE"
      },
      "source": [
        "Data preprocessing"
      ]
    },
    {
      "cell_type": "code",
      "metadata": {
        "id": "5hM-sFRFXiv5"
      },
      "source": [
        "corpus = []\r\n",
        "for i in df['message']:\r\n",
        "  c = ''.join(i.split('X-FileName:')[-1].split('\\n\\n')[1:]).replace('\\n', '')\r\n",
        "  #if('To:' in c):\r\n",
        "  corpus.append(c)\r\n",
        "  #corpus.append(i.split('\\n\\n')[-2])\r\n",
        "#  if(i.split('\\n\\n')[-1] == ''):\r\n",
        "#    corpus.append(i.split('\\n\\n')[-2])\r\n",
        "#  else:\r\n",
        "#    corpus.append(i.split('\\n\\n')[-1])\r\n"
      ],
      "execution_count": 8,
      "outputs": []
    },
    {
      "cell_type": "code",
      "metadata": {
        "id": "P7qnHaa_sc8x"
      },
      "source": [
        "df['corpus'] = corpus"
      ],
      "execution_count": 53,
      "outputs": []
    },
    {
      "cell_type": "code",
      "metadata": {
        "colab": {
          "base_uri": "https://localhost:8080/"
        },
        "id": "AIW7BCFy4Sxl",
        "outputId": "6dcf729f-dda7-42dc-bd7a-59c4af9a1fc3"
      },
      "source": [
        "df['corpus'].head()"
      ],
      "execution_count": 55,
      "outputs": [
        {
          "output_type": "execute_result",
          "data": {
            "text/plain": [
              "0                                Here is our forecast \n",
              "1    Traveling to have a business meeting takes the...\n",
              "2                        test successful. way to go!!!\n",
              "3    Randy, Can you send me a schedule of the salar...\n",
              "4                   Let's shoot for Tuesday at 11:45. \n",
              "Name: corpus, dtype: object"
            ]
          },
          "metadata": {
            "tags": []
          },
          "execution_count": 55
        }
      ]
    },
    {
      "cell_type": "markdown",
      "metadata": {
        "id": "EQefVaTe4gIw"
      },
      "source": [
        "Removing unnecessary white spaces and redundant emails from the dataset"
      ]
    },
    {
      "cell_type": "code",
      "metadata": {
        "colab": {
          "base_uri": "https://localhost:8080/"
        },
        "id": "QI3_uibMIHum",
        "outputId": "8758be29-b8c7-4b35-fee0-24b55e290d77"
      },
      "source": [
        "c = set([])\r\n",
        "for i in range(df['corpus'].shape[0]):\r\n",
        "  df['corpus'][i] = re.sub(' +', ' ', df['corpus'][i])\r\n",
        "  c.add(df['corpus'][i])\r\n",
        "print(df['corpus'].shape)\r\n",
        "print(len(c))  "
      ],
      "execution_count": 13,
      "outputs": [
        {
          "output_type": "stream",
          "text": [
            "/usr/local/lib/python3.6/dist-packages/ipykernel_launcher.py:3: SettingWithCopyWarning: \n",
            "A value is trying to be set on a copy of a slice from a DataFrame\n",
            "\n",
            "See the caveats in the documentation: https://pandas.pydata.org/pandas-docs/stable/user_guide/indexing.html#returning-a-view-versus-a-copy\n",
            "  This is separate from the ipykernel package so we can avoid doing imports until\n"
          ],
          "name": "stderr"
        },
        {
          "output_type": "stream",
          "text": [
            "(10000,)\n",
            "5222\n"
          ],
          "name": "stdout"
        }
      ]
    },
    {
      "cell_type": "markdown",
      "metadata": {
        "id": "3uU6dmOF4rvY"
      },
      "source": [
        "Out of 10000 emails only 5225 emails are unique, let's pick them up"
      ]
    },
    {
      "cell_type": "code",
      "metadata": {
        "id": "mXgmU-S1IMu_"
      },
      "source": [
        "\r\n",
        "a = [] \r\n",
        "removeable_index = []\r\n",
        "for i in range(df['corpus'].shape[0]):\r\n",
        "  x = df['corpus'][i]\r\n",
        "  x = re.sub(' +', ' ', x)\r\n",
        "  if(x not in a):\r\n",
        "    a.append(x)\r\n",
        "  else:\r\n",
        "    removeable_index.append(i)"
      ],
      "execution_count": 15,
      "outputs": []
    },
    {
      "cell_type": "markdown",
      "metadata": {
        "id": "n8_BZ3tL4u4W"
      },
      "source": [
        "Removing Duplicate Emails"
      ]
    },
    {
      "cell_type": "code",
      "metadata": {
        "id": "7lojnJTtI5tE"
      },
      "source": [
        "df.drop(removeable_index, axis = 0, inplace = True)"
      ],
      "execution_count": 16,
      "outputs": []
    },
    {
      "cell_type": "code",
      "metadata": {
        "id": "UAwB_dSPQj6k"
      },
      "source": [
        "df.reset_index(drop=True,inplace = True)"
      ],
      "execution_count": 17,
      "outputs": []
    },
    {
      "cell_type": "markdown",
      "metadata": {
        "id": "9JiJAzoQbxrC"
      },
      "source": [
        "Pre-processing the data for NLP"
      ]
    },
    {
      "cell_type": "code",
      "metadata": {
        "id": "LpTxxELj5-YB"
      },
      "source": [
        "lem = WordNetLemmatizer()\r\n",
        "clean_corpus = []\r\n",
        "\r\n",
        "# This is an iterative step, I've run this notebook before and noticed that few not so important words are not filtered by the stopwords\r\n",
        "# So i'm hard coding them into the machine\r\n",
        "c = set(['com','sent','etc','ectcc','cc','bcc', 'message','subject','www','forward','th','hou','http','please','regards','thanks','ect','id','ee',\r\n",
        "'eb','pm','ees','na'])\r\n",
        "sw = set(stopwords.words('english')).union(c)\r\n",
        "\r\n",
        "for i in df['corpus']:\r\n",
        "  c = re.sub('[^A-Z,a-z]',' ',i).lower().strip().split()\r\n",
        "  c = [lem.lemmatize(i) for i in c if i not in sw]\r\n",
        "  clean_corpus.append(' '.join(c))"
      ],
      "execution_count": 18,
      "outputs": []
    },
    {
      "cell_type": "markdown",
      "metadata": {
        "id": "1Uya0Q5db8Oc"
      },
      "source": [
        "Pre-processed Corpus\r\n",
        "---\r\n",
        "\r\n",
        "Lemmatized each word using Wordnet Lementizer (Only the symantic root of a word is restored to reduce redundancy in the sparse matrix to be created in the further steps)\r\n",
        "\r\n",
        "Removed the stop words using nltk.stopwords\r\n",
        "\r\n",
        "\r\n"
      ]
    },
    {
      "cell_type": "code",
      "metadata": {
        "colab": {
          "base_uri": "https://localhost:8080/"
        },
        "id": "P70R1GzP5-Kt",
        "outputId": "a94d3f4e-37e8-47c5-9350-7efba281a390"
      },
      "source": [
        "clean_corpus[0:5]"
      ],
      "execution_count": 19,
      "outputs": [
        {
          "output_type": "execute_result",
          "data": {
            "text/plain": [
              "['forecast',\n",
              " 'traveling business meeting take fun trip especially prepare presentation would suggest holding business plan meeting take trip without formal business meeting would even try get honest opinion whether trip even desired necessary far business meetings, think would productive try stimulate discussion across different group working often presenter speaks others quiet waiting turn meeting might better held round table discussion format suggestion go austin play golf rent ski boat jet ski flying somewhere take much time',\n",
              " 'test successful way go',\n",
              " 'randy, send schedule salary level everyone scheduling group plus thought change need made patti example phillip',\n",
              " 'let shoot tuesday']"
            ]
          },
          "metadata": {
            "tags": []
          },
          "execution_count": 19
        }
      ]
    },
    {
      "cell_type": "code",
      "metadata": {
        "id": "JUjGvRdS595e"
      },
      "source": [
        "df['clean_corpus'] = clean_corpus"
      ],
      "execution_count": 20,
      "outputs": []
    },
    {
      "cell_type": "markdown",
      "metadata": {
        "id": "6IP5jVKjcr-s"
      },
      "source": [
        "Final Dataset "
      ]
    },
    {
      "cell_type": "code",
      "metadata": {
        "colab": {
          "base_uri": "https://localhost:8080/",
          "height": 306
        },
        "id": "u70of3b1Rh_z",
        "outputId": "0b5ff0ed-2de6-478c-9696-ddfbc2717b7a"
      },
      "source": [
        "df.head()"
      ],
      "execution_count": 21,
      "outputs": [
        {
          "output_type": "execute_result",
          "data": {
            "text/html": [
              "<div>\n",
              "<style scoped>\n",
              "    .dataframe tbody tr th:only-of-type {\n",
              "        vertical-align: middle;\n",
              "    }\n",
              "\n",
              "    .dataframe tbody tr th {\n",
              "        vertical-align: top;\n",
              "    }\n",
              "\n",
              "    .dataframe thead th {\n",
              "        text-align: right;\n",
              "    }\n",
              "</style>\n",
              "<table border=\"1\" class=\"dataframe\">\n",
              "  <thead>\n",
              "    <tr style=\"text-align: right;\">\n",
              "      <th></th>\n",
              "      <th>Unnamed: 0</th>\n",
              "      <th>file</th>\n",
              "      <th>message</th>\n",
              "      <th>corpus</th>\n",
              "      <th>clean_corpus</th>\n",
              "    </tr>\n",
              "  </thead>\n",
              "  <tbody>\n",
              "    <tr>\n",
              "      <th>0</th>\n",
              "      <td>0</td>\n",
              "      <td>allen-p/_sent_mail/1.</td>\n",
              "      <td>Message-ID: &lt;18782981.1075855378110.JavaMail.e...</td>\n",
              "      <td>Here is our forecast</td>\n",
              "      <td>forecast</td>\n",
              "    </tr>\n",
              "    <tr>\n",
              "      <th>1</th>\n",
              "      <td>1</td>\n",
              "      <td>allen-p/_sent_mail/10.</td>\n",
              "      <td>Message-ID: &lt;15464986.1075855378456.JavaMail.e...</td>\n",
              "      <td>Traveling to have a business meeting takes the...</td>\n",
              "      <td>traveling business meeting take fun trip espec...</td>\n",
              "    </tr>\n",
              "    <tr>\n",
              "      <th>2</th>\n",
              "      <td>2</td>\n",
              "      <td>allen-p/_sent_mail/100.</td>\n",
              "      <td>Message-ID: &lt;24216240.1075855687451.JavaMail.e...</td>\n",
              "      <td>test successful. way to go!!!</td>\n",
              "      <td>test successful way go</td>\n",
              "    </tr>\n",
              "    <tr>\n",
              "      <th>3</th>\n",
              "      <td>3</td>\n",
              "      <td>allen-p/_sent_mail/1000.</td>\n",
              "      <td>Message-ID: &lt;13505866.1075863688222.JavaMail.e...</td>\n",
              "      <td>Randy, Can you send me a schedule of the salar...</td>\n",
              "      <td>randy, send schedule salary level everyone sch...</td>\n",
              "    </tr>\n",
              "    <tr>\n",
              "      <th>4</th>\n",
              "      <td>4</td>\n",
              "      <td>allen-p/_sent_mail/1001.</td>\n",
              "      <td>Message-ID: &lt;30922949.1075863688243.JavaMail.e...</td>\n",
              "      <td>Let's shoot for Tuesday at 11:45.</td>\n",
              "      <td>let shoot tuesday</td>\n",
              "    </tr>\n",
              "  </tbody>\n",
              "</table>\n",
              "</div>"
            ],
            "text/plain": [
              "   Unnamed: 0  ...                                       clean_corpus\n",
              "0           0  ...                                           forecast\n",
              "1           1  ...  traveling business meeting take fun trip espec...\n",
              "2           2  ...                             test successful way go\n",
              "3           3  ...  randy, send schedule salary level everyone sch...\n",
              "4           4  ...                                  let shoot tuesday\n",
              "\n",
              "[5 rows x 5 columns]"
            ]
          },
          "metadata": {
            "tags": []
          },
          "execution_count": 21
        }
      ]
    },
    {
      "cell_type": "markdown",
      "metadata": {
        "id": "zOY9jReDc1Zx"
      },
      "source": [
        "Creating the BOW model using TfidfVectorizer"
      ]
    },
    {
      "cell_type": "code",
      "metadata": {
        "id": "tZvaBmXJ5ygQ"
      },
      "source": [
        "from sklearn.feature_extraction.text import TfidfVectorizer"
      ],
      "execution_count": 22,
      "outputs": []
    },
    {
      "cell_type": "code",
      "metadata": {
        "id": "Vn5SyDau52YW"
      },
      "source": [
        "tf_idf = TfidfVectorizer(max_df = 0.5,min_df = 2)"
      ],
      "execution_count": 23,
      "outputs": []
    },
    {
      "cell_type": "code",
      "metadata": {
        "id": "JTHi3BQFTHr_"
      },
      "source": [
        "vecs = tf_idf.fit_transform(clean_corpus).toarray()"
      ],
      "execution_count": 24,
      "outputs": []
    },
    {
      "cell_type": "code",
      "metadata": {
        "colab": {
          "base_uri": "https://localhost:8080/"
        },
        "id": "N2F8TZt-dSwO",
        "outputId": "70afc92c-1b4a-4ded-f2c6-fb6baafa64e7"
      },
      "source": [
        "print(\"Shape of the Bag of Words model created\", vecs.shape)"
      ],
      "execution_count": 25,
      "outputs": [
        {
          "output_type": "stream",
          "text": [
            "Shape of the Bag of Words model created (5222, 24640)\n"
          ],
          "name": "stdout"
        }
      ]
    },
    {
      "cell_type": "markdown",
      "metadata": {
        "id": "tHDmU-a6db5d"
      },
      "source": [
        "The BOW model created is a pretty sparse matrix, with it-idf scores populated in it. For every word in every email(document)\r\n",
        "\r\n",
        "\r\n",
        "---\r\n",
        "\r\n",
        "\r\n",
        "\r\n",
        "The matrix's dimensions are as follows:\r\n",
        "\r\n",
        "N-rows = No of emails in the dataset\r\n",
        "\r\n",
        "N-cols = No of words identified by tf-idf vectorizer\r\n",
        "\r\n",
        "\r\n",
        "\r\n",
        "---\r\n"
      ]
    },
    {
      "cell_type": "code",
      "metadata": {
        "colab": {
          "base_uri": "https://localhost:8080/"
        },
        "id": "KngO5OrKUAc_",
        "outputId": "88819d6f-2c34-4ea7-b8ac-8fe32b81241d"
      },
      "source": [
        "len(tf_idf.get_feature_names()) == vecs.shape[1]"
      ],
      "execution_count": 26,
      "outputs": [
        {
          "output_type": "execute_result",
          "data": {
            "text/plain": [
              "True"
            ]
          },
          "metadata": {
            "tags": []
          },
          "execution_count": 26
        }
      ]
    },
    {
      "cell_type": "markdown",
      "metadata": {
        "id": "QHkCI1VdeSf5"
      },
      "source": [
        "Extracting the features with the highest TF-idf scores"
      ]
    },
    {
      "cell_type": "code",
      "metadata": {
        "id": "jYOeLoF8V_0Z"
      },
      "source": [
        "top_fetaures = pd.DataFrame([tf_idf.get_feature_names(), vecs.sum(axis = 0).tolist()], index = ['Words','TF-iDF score']).T"
      ],
      "execution_count": 27,
      "outputs": []
    },
    {
      "cell_type": "code",
      "metadata": {
        "id": "w3xA4e8UXhTS"
      },
      "source": [
        "top_fetaures = top_fetaures.sort_values(by = 'TF-iDF score', ascending = False).reset_index(drop = True)"
      ],
      "execution_count": 28,
      "outputs": []
    },
    {
      "cell_type": "code",
      "metadata": {
        "id": "cA35CUq5X69f"
      },
      "source": [
        "first_50_words = top_fetaures.iloc[0:50,:]\r\n",
        "second_50_words = top_fetaures.iloc[51:100,:]\r\n",
        "third_50_words = top_fetaures.iloc[101:150,:]"
      ],
      "execution_count": 29,
      "outputs": []
    },
    {
      "cell_type": "code",
      "metadata": {
        "colab": {
          "base_uri": "https://localhost:8080/",
          "height": 653
        },
        "id": "_pXQ4yfgepds",
        "outputId": "31e96b49-fb29-41ca-cae4-ebb47c033b0b"
      },
      "source": [
        "f, axes = plt.subplots(1, 3, figsize=(30,15))\r\n",
        "f.suptitle(\"Top words based on tf-idf score\", fontsize=16)\r\n",
        "axes[0].set_title(\"First 50 words\", fontsize=14)\r\n",
        "sns.barplot(y= first_50_words['Words'], x= first_50_words['TF-iDF score'], orient='h' , ax=axes[0], palette= 'Wistia_r')\r\n",
        "axes[0].set_xlabel('tf-idf score', fontsize=12)\r\n",
        "axes[0].set_ylabel('Words', fontsize=12)\r\n",
        "axes[1].set_title(\"Second 50 words\", fontsize=14)\r\n",
        "sns.barplot(y= second_50_words['Words'], x= second_50_words['TF-iDF score'], orient='h' , ax=axes[1], palette= 'Wistia_r')\r\n",
        "axes[1].set_xlabel('tf-idf score', fontsize=12)\r\n",
        "axes[1].set_ylabel('Words', fontsize=12)\r\n",
        "axes[2].set_title(\"Third 50 words\", fontsize=14)\r\n",
        "sns.barplot(x=third_50_words['TF-iDF score'], y= third_50_words['Words'], orient='h' , ax=axes[2],palette= 'Wistia_r')\r\n",
        "axes[2].set_xlabel('tf-idf score', fontsize=12)\r\n",
        "axes[2].set_ylabel('Words', fontsize=12)\r\n",
        "plt.show()"
      ],
      "execution_count": 30,
      "outputs": [
        {
          "output_type": "display_data",
          "data": {
            "image/png": "[encoded data removed]",
            "text/plain": [
              "<Figure size 2160x1080 with 3 Axes>"
            ]
          },
          "metadata": {
            "tags": [],
            "needs_background": "light"
          }
        }
      ]
    },
    {
      "cell_type": "markdown",
      "metadata": {
        "id": "0l0i1kGSgB5e"
      },
      "source": [
        "# Checking the spread of the words in the emails, Using Principle Component Analysis.\r\n"
      ]
    },
    {
      "cell_type": "code",
      "metadata": {
        "id": "CDl3qkIHnCIQ"
      },
      "source": [
        "pca = PCA(n_components= 2)"
      ],
      "execution_count": 31,
      "outputs": []
    },
    {
      "cell_type": "code",
      "metadata": {
        "id": "b1uX_YsNnORI"
      },
      "source": [
        "model = pca.fit(vecs)\r\n",
        "coords = pca.transform(vecs) "
      ],
      "execution_count": 32,
      "outputs": []
    },
    {
      "cell_type": "code",
      "metadata": {
        "colab": {
          "base_uri": "https://localhost:8080/",
          "height": 499
        },
        "id": "L-DOI3Lw1VYw",
        "outputId": "cab3dc59-cc39-468c-f9d7-4338b481130c"
      },
      "source": [
        "# Checking the spread of the data\r\n",
        "plt.figure(figsize = (15,8))\r\n",
        "plt.title(\"Checking the spread of Data Points using Principle Component Analysis\")\r\n",
        "plt.scatter(coords[:, 0], coords[:, 1], c='m')\r\n",
        "plt.grid()\r\n",
        "plt.show()"
      ],
      "execution_count": 33,
      "outputs": [
        {
          "output_type": "display_data",
          "data": {
            "image/png": "[encoded data removed]",
            "text/plain": [
              "<Figure size 1080x576 with 1 Axes>"
            ]
          },
          "metadata": {
            "tags": [],
            "needs_background": "light"
          }
        }
      ]
    },
    {
      "cell_type": "markdown",
      "metadata": {
        "id": "XzK6dseM4DSk"
      },
      "source": [
        "\r\n",
        "\r\n",
        "---\r\n",
        "# Clustering the BOW model to get email clusters. \r\n",
        "\r\n",
        "    Every row in the Bow model is a vector, \r\n",
        "    Thus what I've done here is i've projected the emails to vectors \r\n",
        "    and vectors are clustered. \r\n",
        "\r\n",
        "    Once we derive the clusters using K-means, \r\n",
        "    I will reproject the predictions on the emails again to derive email clusters. \r\n",
        "---\r\n",
        "\r\n",
        "\r\n",
        "\r\n"
      ]
    },
    {
      "cell_type": "code",
      "metadata": {
        "id": "kqX6MaAF22zP"
      },
      "source": [
        "from sklearn.cluster import KMeans"
      ],
      "execution_count": 34,
      "outputs": []
    },
    {
      "cell_type": "code",
      "metadata": {
        "id": "P4UgOXFkX-Bh"
      },
      "source": [
        "km = KMeans(n_clusters = 3, init = 'k-means++')"
      ],
      "execution_count": 35,
      "outputs": []
    },
    {
      "cell_type": "code",
      "metadata": {
        "id": "_8QSsF9CYLAH"
      },
      "source": [
        "CLUSTERS = km.fit_predict(vecs) # DERIVING THE CLUSTERS"
      ],
      "execution_count": 36,
      "outputs": []
    },
    {
      "cell_type": "code",
      "metadata": {
        "id": "Gb9nf14N_Jyi"
      },
      "source": [
        "final_df =np.column_stack((vecs,CLUSTERS))"
      ],
      "execution_count": 37,
      "outputs": []
    },
    {
      "cell_type": "code",
      "metadata": {
        "id": "a0vmNd3X_tSE"
      },
      "source": [
        "C = tf_idf.get_feature_names()\r\n",
        "C.append('Clusters')\r\n",
        "final_df = pd.DataFrame(final_df, columns = C)"
      ],
      "execution_count": 70,
      "outputs": []
    },
    {
      "cell_type": "code",
      "metadata": {
        "id": "WIm380TtBqK8"
      },
      "source": [
        "final_df.drop(['ect','ce','cd','do','ng','via','web','ou','ees'] , axis = 1, inplace = True)"
      ],
      "execution_count": 39,
      "outputs": []
    },
    {
      "cell_type": "code",
      "metadata": {
        "id": "f64FxxBwdfup"
      },
      "source": [
        "# Visualize the clusters here"
      ],
      "execution_count": 40,
      "outputs": []
    },
    {
      "cell_type": "markdown",
      "metadata": {
        "id": "n9z7mjuciU8m"
      },
      "source": [
        "\r\n",
        "\r\n",
        "---\r\n",
        "####Spliting the dataset cluster-wise\r\n",
        "---\r\n",
        "\r\n",
        "\r\n",
        "\r\n"
      ]
    },
    {
      "cell_type": "code",
      "metadata": {
        "id": "cdR-64rzEey_"
      },
      "source": [
        "df_c1 = final_df[final_df['Clusters']==0.0]\r\n",
        "df_c2 = final_df[final_df['Clusters']==1.0]\r\n",
        "df_c3 = final_df[final_df['Clusters']==2.0]"
      ],
      "execution_count": 41,
      "outputs": []
    },
    {
      "cell_type": "markdown",
      "metadata": {
        "id": "tFA8icztij_0"
      },
      "source": [
        "\r\n",
        "---\r\n",
        "#### Extracting the top 30 words in each cluster and visualizing them\r\n",
        "---"
      ]
    },
    {
      "cell_type": "code",
      "metadata": {
        "id": "dxeVndwACHHW"
      },
      "source": [
        "top_30_in_cluster_1 = df_c1.sum(axis = 0).sort_values(ascending = False).head(31)[1:]\r\n",
        "top_30_in_cluster_2 = df_c2.sum(axis = 0).sort_values(ascending = False).head(31)[1:]\r\n",
        "top_30_in_cluster_3 = df_c3.sum(axis = 0).sort_values(ascending = False).head(31)[1:]"
      ],
      "execution_count": 42,
      "outputs": []
    },
    {
      "cell_type": "code",
      "metadata": {
        "colab": {
          "base_uri": "https://localhost:8080/",
          "height": 653
        },
        "id": "S1if0slfMO76",
        "outputId": "a1fd74d5-5156-40fa-a47c-da307940c9fb"
      },
      "source": [
        "f, axes = plt.subplots(1, 3, figsize=(30,15))\r\n",
        "f.suptitle(\"Most used owrds under each Cluster\", fontsize=16)\r\n",
        "axes[0].set_title(\"top_30_words_in_cluster_1\", fontsize=14)\r\n",
        "sns.barplot(y=top_30_in_cluster_1.index, x= top_30_in_cluster_1, orient='h' , ax=axes[0], palette= 'Wistia_r')\r\n",
        "axes[0].set_xlabel('tf-idf score', fontsize=12)\r\n",
        "axes[0].set_ylabel('Words', fontsize=12)\r\n",
        "axes[1].set_title(\"top_30_words_in_cluster_2\", fontsize=14)\r\n",
        "sns.barplot(y=top_30_in_cluster_2.index, x= top_30_in_cluster_2, orient='h' , ax=axes[1], palette= 'Wistia_r')\r\n",
        "axes[1].set_xlabel('tf-idf score', fontsize=12)\r\n",
        "axes[1].set_ylabel('Words', fontsize=12)\r\n",
        "axes[2].set_title(\"top_30_words_in_cluster_3\", fontsize=14)\r\n",
        "sns.barplot(y=top_30_in_cluster_3.index, x= top_30_in_cluster_3, orient='h' , ax=axes[2],palette= 'Wistia_r')\r\n",
        "axes[2].set_xlabel('tf-idf score', fontsize=12)\r\n",
        "axes[2].set_ylabel('Words', fontsize=12)\r\n",
        "plt.show()"
      ],
      "execution_count": 43,
      "outputs": [
        {
          "output_type": "display_data",
          "data": {
            "image/png": "[encoded data removed]",
            "text/plain": [
              "<Figure size 2160x1080 with 3 Axes>"
            ]
          },
          "metadata": {
            "tags": [],
            "needs_background": "light"
          }
        }
      ]
    },
    {
      "cell_type": "code",
      "metadata": {
        "id": "NkCroGFRColr"
      },
      "source": [
        "# Inferences \r\n",
        "# Cluster one - We can see the names of companies, and words like stock, trademark, news etc. Form these words I claim these emails are \r\n",
        "# where discuss about market and generic market related emails\r\n",
        "\r\n",
        "#Cluster two - We can see a nemaes like enron, email, day, call, information etc. From these words I claim \r\n",
        "# these emails are offical emails internal to enron\r\n",
        "\r\n",
        "# Cluster three -  this could be generic emails like birthday wish/ level request/approvals\r\n",
        "# from HR team.\r\n",
        "# Not very business oriented emails"
      ],
      "execution_count": 60,
      "outputs": []
    },
    {
      "cell_type": "markdown",
      "metadata": {
        "id": "YxfX3p2Hi371"
      },
      "source": [
        "##### Implementing Cosine Similarity for find relationships between a highly used word Vs Emails\r\n",
        "\r\n",
        "    From prior work on this notebook i know, \r\n",
        "    everything that exits the tf_ifd vectorizer is a vector (So is the nomenclature :D),\r\n",
        "\r\n",
        "    So i've used the tf_idf object trained on the email corpus, \r\n",
        "    to transform a word from the top words under a cluster.\r\n",
        "\r\n",
        "    The result is again a vector.\r\n",
        "\r\n",
        "    By finding the cosine-simillarity score between a \r\n",
        "    \"selected word's vectors Vs a email in the vector format\" \r\n",
        "    gives the relationship between the word and the email.\r\n",
        "\r\n",
        "    Using this logic I'm gathereing the top 10 related emails for a \r\n",
        "    top used word and prompting it.\r\n",
        "\r\n",
        "\r\n",
        "\r\n"
      ]
    },
    {
      "cell_type": "code",
      "metadata": {
        "id": "svplfAXAbAMS"
      },
      "source": [
        "# The corpus need to be hard cleaned again to get rid of words like www, com, subject etc which are genric email terms.\r\n",
        "\r\n",
        "# Let's see what cosine similarity logic has to say for the word \"paribas\" \r\n",
        "\r\n",
        "def Gimmi_to_n_similary_mails(x,n):\r\n",
        "  v_query = tf_idf.transform([x])\r\n",
        "\r\n",
        "  from sklearn.metrics.pairwise import linear_kernel\r\n",
        "  cosine_sim = linear_kernel(v_query, vecs).flatten()\r\n",
        "  \r\n",
        "  related_email_indices = cosine_sim.argsort()[:-n:-1]\r\n",
        "\r\n",
        "  for i in related_email_indices:\r\n",
        "    print(\"Email ::\", df['corpus'][i], '\\n\\n',\"Cluster of the email\",final_df['Clusters'][i])\r\n",
        "    print(\"==============================================================================================\")"
      ],
      "execution_count": 84,
      "outputs": []
    },
    {
      "cell_type": "code",
      "metadata": {
        "colab": {
          "base_uri": "https://localhost:8080/"
        },
        "id": "3JUKlC-clgPU",
        "outputId": "0d701068-393f-4bef-fbef-f31c6b9c4e9f"
      },
      "source": [
        "Gimmi_to_n_similary_mails('market',10)"
      ],
      "execution_count": 85,
      "outputs": [
        {
          "output_type": "stream",
          "text": [
            "Email :: real time market \n",
            "\n",
            " Cluster of the email 0.0\n",
            "==============================================================================================\n",
            "Email :: Market Participants,Attention: Settlements and Scheduling PersonnelYour participation is requested in the second iteration of 10-MinuteSettlement Market Simulation.As communicated on 7/20/00, the ISO has postponed the August 1, 2000,implementation of 10-minute settlements in order to accommodate additionalend-to-end testing and market simulation. The ISO's new target forimplementation is the last week of August, 2000, contingent upon thesuccessful completion of the second 10-Minute Settlement Market Simulationand ISO's 10 day written notice to FERC.The second 10-Minute Settlement Market Simulation is scheduled to begin onTuesday, August 1, 2000. The ISO will hold a kickoff meeting conferencecall on Thursday, July 27, from 1:30 - 3:00 p.m., to summarize the status ofthe first Market Simulation, discuss the second Market Simulation logistics,and review the Market Simulation Plan.All Market Participants are strongly urged to participate in this simulationto identify any outstanding issues that may affect implementation forScheduling Coordinators and the ISO.Please respond to Cathy Young at cyoung@caiso.com by 3:00 p.m. on Friday ifyou intend to participate. The remainder of this message contains thekickoff meeting Agenda, Market Simulation Schedule, and necessary system setup documentation for the simulation.10 MINUTE SETTLEMENT MARKET SIMULATION IIKICKOFF CONFERENCE CALLJuly 27, 1:30 - 3:00 p.m.Conference Number 877-670-4111Passcode 246870Agenda:* Review of first Market Simulation* System Requirements* ADS* SI* Metering* Meter Data* Refer to attached document: Metering August Mkt Sim1* MDAS Online work around* Schedule Data Requirements* RMR dispatch* OOS* Interties predispatch* SC provide all DA market and supplemental energy bid dataProposed Market Simulation Schedule (refer to attached Detailed Test Plan)* Monday , July 31 ADS/SI/Metering connectivity* Tuesday, August 1 DA market run for td 8/2/00* Wednesday, August 2 Real time market for td 8/2/00 (HE 11 -- 17) DA market run for td 8/3/00* Thursday, August 3 Real time market for td 8/3/00 (HE 11 -- 17)* Friday, August 4 Run settlements for 8/2/00* Monday, August 7 Run settlements for 8/3/00 Publish settlements for 8/2/00* Tuesday, August 8 Publish settlements for 8/3/00* Wednesday, August 9 Market Participant Review* Thursday, August 10 Market Participant Review* Friday, August 11 Conference call to review market sim.Attached please find the following documentation for your use in setting upyour systems for Market Simulation.a. ADS Market Simulation Configurationb. ADS_PAR Installationc. Software Configuration for SI Development SystemIt is important that you use this information to prepare your system setupASAP. It may be necessary to have your IT department allow traffic throughyour firewalls to and from the ADS market simulation IP address and port.Please refer to the ADS Market Simulation Configuration document fordetailed instructions.If you are interested in verbally receiving RMR pre-dispatches during themarket simulation, please let Cathy Young know when you sign up.You may contact Christine Vangelatos at cvangelatos@caiso.com or (916)351-2142 if you have any questions or concerns regarding ADS or SIconfiguration.CRCommunicationsClient Relations Communications <<ADS Market Simulation Configuration Instructions.doc>> <<ADS_PARInstallation.ppt>> <<CONFIGUREdev1_.doc>> <<10-min Market Simulation TestScript 2.doc>> <<Metering August Mkt Sim.doc>> - ADS Market Simulation Configuration Instructions.doc - ADS_PAR Installation.ppt - CONFIGUREdev1_.doc - 10-min Market Simulation Test Script 2.doc - Metering August Mkt Sim.doc \n",
            "\n",
            " Cluster of the email 0.0\n",
            "==============================================================================================\n",
            "Email :: day ahead/day of market \n",
            "\n",
            " Cluster of the email 0.0\n",
            "==============================================================================================\n",
            "Email :: Market Participants,Several market participants have been engaged in a practice of schedulinglarge amounts of non-firm counter flows on congested branch groups in orderto earn hour-ahead congestion revenues and then not providing those counterflows in real time. This occurred during a Stage 1 emergency on 7-20-00.This practice creates a significant reliability problem for the ISO and isto the detriment of market efficiency.This notice is intended to inform Market Participants that the ISODepartment of Market Analysis considers this a potentially serious \"gaming\"practice as defined in the ISO Tariff MMIP 2.1.3. The ISO DMA will beinvestigating any Market Participant found to be engaging in this activityand will take appropriate corrective actions.CRCommunicationsClient Relations Communications \n",
            "\n",
            " Cluster of the email 0.0\n",
            "==============================================================================================\n",
            "Email :: Financial (6) West Desk (14)Mid Market (16) \n",
            "\n",
            " Cluster of the email 0.0\n",
            "==============================================================================================\n",
            "Email :: Dave:Can you modify the code that disallows at choice market. Sometimes the system will allow me to make a choice market by lowering my offer, sometimes it won't. The system will never allow me to raise a bid to make a choice market. I use this feature when The sytem should continue to disallow inverted markets, a market where the bid is greater than the offer. \n",
            "\n",
            " Cluster of the email 0.0\n",
            "==============================================================================================\n",
            "Email :: [IMAGE] To help celebrate the season, Skipping Stone is happy to offer youa special limited time discount on our Deregulation of Texas Power Markets Report. Order your report todayfor $100 off the regular price of $995 any time before December 28th. The newly updated Texas Report has all the facts on the Texas Power Market in one clear and coherent 100+ page report. Detailed Legislative Summary Comprehensive and Up-to-date Market RulesDescription of the Wholesale MarketsERCOT Rules and Participation RequirementsPrice to Beat and POLR Decisions and OpportunitiesComplete Economic and Market AnalysesHow to Work Within the InfrastructureComprehensive Review of the Pilot ProgramThe Latest Revised Market Participant AnalysisKey Contacts InformationAnd Much More! This Report will provide the information needed to decide whether and how to enter the Texas market and to develop abusiness plan for market entry and to develop and market products. Once purchased, you will haveup to 30 minutes of accessto Skipping Stone's experts to askany questions youmay have. Visit: http://www.skippingstone.com/product/txreport.htm or call 888-792-2592 for more information or to take advantage of this special offer! This offer is good through 12/28/01. The Report will be delivered electronically in a PDF format. Each report is uniquely identified with an embedded identification number. Unauthorized copying, electronically or otherwise, of the report is a violation of federal law. Skipping Stone offers a site license for up to ten copies for $4,595.  \n",
            "\n",
            " Cluster of the email 0.0\n",
            "==============================================================================================\n",
            "Email ::  .-----Original Message-----From: Novosel, Sarah Sent: Monday, October 15, 2001 10:29 PMTo: Presto, Kevin M.; Davis, Mark Dana; May, Tom; Will, Lloyd; Lindberg, Susan; Gupta, Gautam; Misra, Narsimha; Scheuer, Janelle; Baughman, Edward D.; Herndon, RogersCc: Nicolay, Christi L.Subject: RTO Week -- Summary of Day One PanelToday was the first day of FERC's \"RTO Week\" in Washington, D.C. The topic of today's panel was \"RTO Markets and Design: Required Markets and Optional Markets.\" The issues in both panels were quickly merged and the two panels discussed all of the issues. Panel One: Mandatory RTO Markets<?xml:namespace prefix = o ns = \"urn:schemas-microsoft-com:office:office\" />The morning panel consisted of the following participants: Peter Cramton (University of Maryland), David Hadley (Indiana PSC), Mark Kleinginna (Ormet), John Meyer (Reliant), John O'Neal (Mirant), and Roy Shanker (consultant for generators in the Northeast). Energy Spot MarketThere was unanimous agreement among these panelists that the RTO must run a real time energy, or spot, market. Most panelists agreed that the spot market should be a bid-based, security-constrained system with economic dispatch. In response to a question from Pat Wood, most also agreed that nodal (LMP) pricing should be used in the spot market, although John Meyer from Reliant stated that zonal pricing is used in ERCOT and that works also. Day Ahead Market and Balanced Versus Unbalanced SchedulesMost of the panelists said that the RTO should not require balanced schedules. Peter Cramton said that with a day-ahead market, no need for balanced schedules because the real time market prices will discipline behavior. John Meyer agrees, saying if there is no balanced schedules requirement, then there might be a need for a day-ahead market. John notes that ERCOT has a balanced schedule requirement. John also said that imbalance penalties could be appropriate for imbalances that hurt the system. Roy Shanker also said FERC needs either a balanced schedules requirement (which he does not recommend) or have a day-ahead market.ICAP RequirementMost of the panelists (except Peter Cramton -- University of MD) support an ICAP requirement. However, none of the panelists could point to an effective ICAP market (Roy Shanker says he has an idea of what would work - we will probably see this in comments in the ICAP proceeding due later this week). Mark from Ormet kept bringing the message back to the need to know the rules and know that the rules will not change substantially over time. Mark said liquidity in PJM does not help him move power to the Midwest since the rules are undefined outside of PJM. He cannot enter into long-term contracts because he does not know what the rules will be one or more years out. He also said you can have an ICAP market but market participants have to be able to meet ICAP requirements through load response. Standardized Markets Most of the panelists agreed that the mandatory markets should be real time and day-ahead energy markets, spinning and non-spinning reserves and regulation should also be required and be standardized.Massey asked if the costs to standardize are outweighed by the benefits. Roy Shanker said the Northeast works so FERC should not change it. Even if FERC does not require standardization between the RTOs, creating large RTOs and fixing the problems within the RTOs will be a big improvement. Mark with Ormet and the Indiana Commissioner both urged FERC to standardize the mandatory markets among the RTOs.Panel Two: Optional RTO MarketsThe afternoon panel consisted of the following participants: Fiona Woolfe (lawyer with experience in England and Wales pool); Roy Thilly (Wisconsin Public Power Inc.); Richard Pierce (professor at George Washington); Glen Arthur (Connecticut PSC); Steve Naumann (Commonwealth Edison); Ed Cazalet (APX).This panel was intended to cover optional market issues, including whether a day-ahead market is needed and whether there should be ICAP markets. This panel addressed these issues as well as the need for a real time market, market monitoring, and other issues.Mandatory MarketsOther than Ed Cazalet (APX), the other panelists for the most part agree that the RTO should run a real time and day-ahead energy market, ancillary services markets, and there must be an ICAP requirement. Ed Cazalet believes that there only needs to be a small balancing market (perhaps with balanced schedules requirements) and leave the creation of any other markets to independent entities to create. ICAP Most of the panelists believe that the RTO should provide a day-ahead market, congestion management and ancillary services. Most also favor an ICAP requirement and market.Pat Wood said he is not convinced that a blanket ICAP requirement is needed on Day One. He has been considering an ICAP requirement that does not apply until triggers are reached, and perhaps that should be considered here as well. He has also been talking with a Northeast regulator about having different requirements for states depending on whether they have retail access or not.Shelton Cannon (Staff) asked the panelists to assume one Midwest RTO - can there be different ICAP requirements within the RTO? Most panelists agree that if the ICAP rules are the same within the RTO, that there could be percentage requirement deviations.Day Two of RTO Week focuses on Congestion Management in the morning and Transmission Planning and Expansion in the afternoon. We will get summaries out on these panels tomorrow.Please call me with questions or comments.Sarah \n",
            "\n",
            " Cluster of the email 0.0\n",
            "==============================================================================================\n",
            "Email :: I am sorry you lost the trade but this is not a matter that should be worked in the broker market nor should anybody be looking to profit off the situation. It is being handled directly to ensure the integity and liquidity in the market that is beneficial to all.  \n",
            "\n",
            " Cluster of the email 0.0\n",
            "==============================================================================================\n"
          ],
          "name": "stdout"
        }
      ]
    },
    {
      "cell_type": "code",
      "metadata": {
        "colab": {
          "base_uri": "https://localhost:8080/"
        },
        "id": "5vVfldNfmfID",
        "outputId": "21c162d4-825b-46cd-95b3-3735c461cbd8"
      },
      "source": [
        "Gimmi_to_n_similary_mails('approval', 15) # Here one can very well see the word approval's context with respect to first and second cluster"
      ],
      "execution_count": 86,
      "outputs": [
        {
          "output_type": "stream",
          "text": [
            "Email :: you have my approval \n",
            "\n",
            " Cluster of the email 0.0\n",
            "==============================================================================================\n",
            "Email :: This request has been pending your approval for 2 days. Please click http://itcapps.corp.enron.com/srrs/auth/emailLink.asp?ID=000000000009659&Page=Approval to review and act upon this request.Request ID : 000000000009659Request Create Date : 12/8/00 8:23:47 AMRequested For : barry.tycholiz@enron.comResource Name : VPNResource Type : Applications \n",
            "\n",
            " Cluster of the email 2.0\n",
            "==============================================================================================\n",
            "Email :: This request has been pending your approval for 11 days. Please click http://itcapps.corp.enron.com/srrs/auth/emailLink.asp?ID=000000000067320&Page=Approval to review and act upon this request.Request ID : 000000000067320Request Create Date : 10/11/01 10:24:53 AMRequested For : matt.smith@enron.comResource Name : Risk Acceptance Forms Local Admin Rights - PermanentResource Type : Applications \n",
            "\n",
            " Cluster of the email 2.0\n",
            "==============================================================================================\n",
            "Email :: This request has been pending your approval for 52 days. Please click http://itcapps.corp.enron.com/srrs/auth/emailLink.asp?ID=000000000067320&Page=Approval to review and act upon this request.Request ID : 000000000067320Request Create Date : 10/11/01 10:24:53 AMRequested For : matt.smith@enron.comResource Name : Risk Acceptance Forms Local Admin Rights - PermanentResource Type : Applications \n",
            "\n",
            " Cluster of the email 2.0\n",
            "==============================================================================================\n",
            "Email :: This request has been pending your approval for 7 days. Please click http://itcapps.corp.enron.com/srrs/auth/emailLink.asp?ID=000000000067320&Page=Approval to review and act upon this request.Request ID : 000000000067320Request Create Date : 10/11/01 10:24:53 AMRequested For : matt.smith@enron.comResource Name : Risk Acceptance Forms Local Admin Rights - PermanentResource Type : Applications \n",
            "\n",
            " Cluster of the email 2.0\n",
            "==============================================================================================\n",
            "Email :: This request has been pending your approval for 14 days. Please click http://itcapps.corp.enron.com/srrs/auth/emailLink.asp?ID=000000000067320&Page=Approval to review and act upon this request.Request ID : 000000000067320Request Create Date : 10/11/01 10:24:53 AMRequested For : matt.smith@enron.comResource Name : Risk Acceptance Forms Local Admin Rights - PermanentResource Type : Applications \n",
            "\n",
            " Cluster of the email 2.0\n",
            "==============================================================================================\n",
            "Email :: This request has been pending your approval for 58 days. Please click http://itcapps.corp.enron.com/srrs/auth/emailLink.asp?ID=000000000067320&Page=Approval to review and act upon this request.Request ID : 000000000067320Request Create Date : 10/11/01 10:24:53 AMRequested For : matt.smith@enron.comResource Name : Risk Acceptance Forms Local Admin Rights - PermanentResource Type : Applications \n",
            "\n",
            " Cluster of the email 2.0\n",
            "==============================================================================================\n",
            "Email :: This request has been pending your approval for 54 days. Please click http://itcapps.corp.enron.com/srrs/auth/emailLink.asp?ID=000000000067320&Page=Approval to review and act upon this request.Request ID : 000000000067320Request Create Date : 10/11/01 10:24:53 AMRequested For : matt.smith@enron.comResource Name : Risk Acceptance Forms Local Admin Rights - PermanentResource Type : Applications \n",
            "\n",
            " Cluster of the email 2.0\n",
            "==============================================================================================\n",
            "Email :: This request has been pending your approval for 55 days. Please click http://itcapps.corp.enron.com/srrs/auth/emailLink.asp?ID=000000000067320&Page=Approval to review and act upon this request.Request ID : 000000000067320Request Create Date : 10/11/01 10:24:53 AMRequested For : matt.smith@enron.comResource Name : Risk Acceptance Forms Local Admin Rights - PermanentResource Type : Applications \n",
            "\n",
            " Cluster of the email 2.0\n",
            "==============================================================================================\n",
            "Email :: This request has been pending your approval for 9 days. Please click http://itcapps.corp.enron.com/srrs/auth/emailLink.asp?ID=000000000067320&Page=Approval to review and act upon this request.Request ID : 000000000067320Request Create Date : 10/11/01 10:24:53 AMRequested For : matt.smith@enron.comResource Name : Risk Acceptance Forms Local Admin Rights - PermanentResource Type : Applications \n",
            "\n",
            " Cluster of the email 2.0\n",
            "==============================================================================================\n",
            "Email :: This request has been pending your approval for 60 days. Please click http://itcapps.corp.enron.com/srrs/auth/emailLink.asp?ID=000000000067320&Page=Approval to review and act upon this request.Request ID : 000000000067320Request Create Date : 10/11/01 10:24:53 AMRequested For : matt.smith@enron.comResource Name : Risk Acceptance Forms Local Admin Rights - PermanentResource Type : Applications \n",
            "\n",
            " Cluster of the email 2.0\n",
            "==============================================================================================\n",
            "Email :: This request has been pending your approval for 35 days. Please click http://itcapps.corp.enron.com/srrs/auth/emailLink.asp?ID=000000000067320&Page=Approval to review and act upon this request.Request ID : 000000000067320Request Create Date : 10/11/01 10:24:53 AMRequested For : matt.smith@enron.comResource Name : Risk Acceptance Forms Local Admin Rights - PermanentResource Type : Applications \n",
            "\n",
            " Cluster of the email 2.0\n",
            "==============================================================================================\n",
            "Email :: This request has been pending your approval for 56 days. Please click http://itcapps.corp.enron.com/srrs/auth/emailLink.asp?ID=000000000067320&Page=Approval to review and act upon this request.Request ID : 000000000067320Request Create Date : 10/11/01 10:24:53 AMRequested For : matt.smith@enron.comResource Name : Risk Acceptance Forms Local Admin Rights - PermanentResource Type : Applications \n",
            "\n",
            " Cluster of the email 2.0\n",
            "==============================================================================================\n",
            "Email :: This request has been pending your approval for 34 days. Please click http://itcapps.corp.enron.com/srrs/auth/emailLink.asp?ID=000000000067320&Page=Approval to review and act upon this request.Request ID : 000000000067320Request Create Date : 10/11/01 10:24:53 AMRequested For : matt.smith@enron.comResource Name : Risk Acceptance Forms Local Admin Rights - PermanentResource Type : Applications \n",
            "\n",
            " Cluster of the email 2.0\n",
            "==============================================================================================\n"
          ],
          "name": "stdout"
        }
      ]
    },
    {
      "cell_type": "markdown",
      "metadata": {
        "id": "OmEYSHKi-aPW"
      },
      "source": [
        "### This Email clustering would've worked better if there were lesser typos in the email.\r\n",
        "### People should proof read their email religiously.\r\n",
        "### With that note this notebook ends and Lots to come."
      ]
    }
  ]
}
